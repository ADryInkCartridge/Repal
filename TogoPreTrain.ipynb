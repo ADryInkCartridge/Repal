{
 "cells": [
  {
   "cell_type": "code",
   "execution_count": 1,
   "metadata": {},
   "outputs": [],
   "source": [
    "import torch\n",
    "\n",
    "from pathlib import Path\n",
    "import json\n",
    "\n",
    "from cropharvest.datasets import CropHarvest\n",
    "from cropharvest.utils import DATAFOLDER_PATH\n",
    "from cropharvest.engineer import TestInstance\n",
    "\n",
    "from config import (\n",
    "    SHUFFLE_SEEDS,\n",
    "    DATASET_TO_SIZES,\n",
    "    CLASSIFIER_DROPOUT,\n",
    "    NUM_CLASSIFICATION_LAYERS,\n",
    "    HIDDEN_VECTOR_SIZE,\n",
    "    CLASSIFIER_BASE_LAYERS,\n",
    "    DL_PRETRAINED,\n",
    "    DL_RANDOM,\n",
    "    DL_MAML,\n",
    ")\n",
    "\n",
    "from dl import Classifier, train, pretrain_model\n",
    "\n",
    "from typing import Dict, Optional"
   ]
  }
 ],
 "metadata": {
  "kernelspec": {
   "display_name": "Python 3",
   "language": "python",
   "name": "python3"
  },
  "language_info": {
   "codemirror_mode": {
    "name": "ipython",
    "version": 3
   },
   "file_extension": ".py",
   "mimetype": "text/x-python",
   "name": "python",
   "nbconvert_exporter": "python",
   "pygments_lexer": "ipython3",
   "version": "3.9.16"
  },
  "orig_nbformat": 4
 },
 "nbformat": 4,
 "nbformat_minor": 2
}
