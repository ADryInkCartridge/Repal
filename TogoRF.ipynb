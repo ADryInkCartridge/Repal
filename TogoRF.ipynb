{
 "cells": [
  {
   "cell_type": "code",
   "execution_count": 18,
   "metadata": {},
   "outputs": [
    {
     "name": "stderr",
     "output_type": "stream",
     "text": [
      "A subdirectory or file data already exists.\n"
     ]
    }
   ],
   "source": [
    "from cropharvest.datasets import CropHarvest\n",
    "from cropharvest.inference import Inference\n",
    "from pathlib import Path\n",
    "from sklearn.ensemble import RandomForestClassifier\n",
    "\n",
    "import requests\n",
    "import tempfile\n",
    "\n",
    "DATA_DIR = \"data\"\n",
    "\n",
    "!mkdir $DATA_DIR"
   ]
  },
  {
   "cell_type": "code",
   "execution_count": 19,
   "metadata": {},
   "outputs": [],
   "source": [
    "from sklearn.ensemble import RandomForestClassifier\n",
    "\n",
    "from cropharvest.datasets import Task, CropHarvest\n",
    "from cropharvest.countries import get_country_bbox\n",
    "\n",
    "data_dir = \"data\"\n",
    "\n",
    "Togo_Bounding_Box = get_country_bbox(\"Togo\")\n",
    "Togo_Bounding_Box = Togo_Bounding_Box[0]"
   ]
  },
  {
   "cell_type": "code",
   "execution_count": 20,
   "metadata": {},
   "outputs": [
    {
     "data": {
      "text/html": [
       "<style>#sk-container-id-2 {color: black;background-color: white;}#sk-container-id-2 pre{padding: 0;}#sk-container-id-2 div.sk-toggleable {background-color: white;}#sk-container-id-2 label.sk-toggleable__label {cursor: pointer;display: block;width: 100%;margin-bottom: 0;padding: 0.3em;box-sizing: border-box;text-align: center;}#sk-container-id-2 label.sk-toggleable__label-arrow:before {content: \"▸\";float: left;margin-right: 0.25em;color: #696969;}#sk-container-id-2 label.sk-toggleable__label-arrow:hover:before {color: black;}#sk-container-id-2 div.sk-estimator:hover label.sk-toggleable__label-arrow:before {color: black;}#sk-container-id-2 div.sk-toggleable__content {max-height: 0;max-width: 0;overflow: hidden;text-align: left;background-color: #f0f8ff;}#sk-container-id-2 div.sk-toggleable__content pre {margin: 0.2em;color: black;border-radius: 0.25em;background-color: #f0f8ff;}#sk-container-id-2 input.sk-toggleable__control:checked~div.sk-toggleable__content {max-height: 200px;max-width: 100%;overflow: auto;}#sk-container-id-2 input.sk-toggleable__control:checked~label.sk-toggleable__label-arrow:before {content: \"▾\";}#sk-container-id-2 div.sk-estimator input.sk-toggleable__control:checked~label.sk-toggleable__label {background-color: #d4ebff;}#sk-container-id-2 div.sk-label input.sk-toggleable__control:checked~label.sk-toggleable__label {background-color: #d4ebff;}#sk-container-id-2 input.sk-hidden--visually {border: 0;clip: rect(1px 1px 1px 1px);clip: rect(1px, 1px, 1px, 1px);height: 1px;margin: -1px;overflow: hidden;padding: 0;position: absolute;width: 1px;}#sk-container-id-2 div.sk-estimator {font-family: monospace;background-color: #f0f8ff;border: 1px dotted black;border-radius: 0.25em;box-sizing: border-box;margin-bottom: 0.5em;}#sk-container-id-2 div.sk-estimator:hover {background-color: #d4ebff;}#sk-container-id-2 div.sk-parallel-item::after {content: \"\";width: 100%;border-bottom: 1px solid gray;flex-grow: 1;}#sk-container-id-2 div.sk-label:hover label.sk-toggleable__label {background-color: #d4ebff;}#sk-container-id-2 div.sk-serial::before {content: \"\";position: absolute;border-left: 1px solid gray;box-sizing: border-box;top: 0;bottom: 0;left: 50%;z-index: 0;}#sk-container-id-2 div.sk-serial {display: flex;flex-direction: column;align-items: center;background-color: white;padding-right: 0.2em;padding-left: 0.2em;position: relative;}#sk-container-id-2 div.sk-item {position: relative;z-index: 1;}#sk-container-id-2 div.sk-parallel {display: flex;align-items: stretch;justify-content: center;background-color: white;position: relative;}#sk-container-id-2 div.sk-item::before, #sk-container-id-2 div.sk-parallel-item::before {content: \"\";position: absolute;border-left: 1px solid gray;box-sizing: border-box;top: 0;bottom: 0;left: 50%;z-index: -1;}#sk-container-id-2 div.sk-parallel-item {display: flex;flex-direction: column;z-index: 1;position: relative;background-color: white;}#sk-container-id-2 div.sk-parallel-item:first-child::after {align-self: flex-end;width: 50%;}#sk-container-id-2 div.sk-parallel-item:last-child::after {align-self: flex-start;width: 50%;}#sk-container-id-2 div.sk-parallel-item:only-child::after {width: 0;}#sk-container-id-2 div.sk-dashed-wrapped {border: 1px dashed gray;margin: 0 0.4em 0.5em 0.4em;box-sizing: border-box;padding-bottom: 0.4em;background-color: white;}#sk-container-id-2 div.sk-label label {font-family: monospace;font-weight: bold;display: inline-block;line-height: 1.2em;}#sk-container-id-2 div.sk-label-container {text-align: center;}#sk-container-id-2 div.sk-container {/* jupyter's `normalize.less` sets `[hidden] { display: none; }` but bootstrap.min.css set `[hidden] { display: none !important; }` so we also need the `!important` here to be able to override the default hidden behavior on the sphinx rendered scikit-learn.org. See: https://github.com/scikit-learn/scikit-learn/issues/21755 */display: inline-block !important;position: relative;}#sk-container-id-2 div.sk-text-repr-fallback {display: none;}</style><div id=\"sk-container-id-2\" class=\"sk-top-container\"><div class=\"sk-text-repr-fallback\"><pre>RandomForestClassifier(random_state=0)</pre><b>In a Jupyter environment, please rerun this cell to show the HTML representation or trust the notebook. <br />On GitHub, the HTML representation is unable to render, please try loading this page with nbviewer.org.</b></div><div class=\"sk-container\" hidden><div class=\"sk-item\"><div class=\"sk-estimator sk-toggleable\"><input class=\"sk-toggleable__control sk-hidden--visually\" id=\"sk-estimator-id-2\" type=\"checkbox\" checked><label for=\"sk-estimator-id-2\" class=\"sk-toggleable__label sk-toggleable__label-arrow\">RandomForestClassifier</label><div class=\"sk-toggleable__content\"><pre>RandomForestClassifier(random_state=0)</pre></div></div></div></div></div>"
      ],
      "text/plain": [
       "RandomForestClassifier(random_state=0)"
      ]
     },
     "execution_count": 20,
     "metadata": {},
     "output_type": "execute_result"
    }
   ],
   "source": [
    "togo_task = Task(bounding_box=Togo_Bounding_Box, normalize=True)\n",
    "togo_dataset = CropHarvest(data_dir, togo_task)"
   ]
  },
  {
   "cell_type": "code",
   "execution_count": 28,
   "metadata": {},
   "outputs": [],
   "source": [
    "evaluation_datasets = CropHarvest.create_benchmark_datasets(DATA_DIR)\n",
    "evaluation_datasets\n",
    "togo_dataset = evaluation_datasets[2]"
   ]
  },
  {
   "cell_type": "code",
   "execution_count": 21,
   "metadata": {},
   "outputs": [],
   "source": [
    "for test in X:\n",
    "    if len(test) !=  216:\n",
    "        print(\"Error\")"
   ]
  },
  {
   "cell_type": "code",
   "execution_count": 22,
   "metadata": {},
   "outputs": [
    {
     "data": {
      "text/plain": [
       "(1272, 306)"
      ]
     },
     "execution_count": 22,
     "metadata": {},
     "output_type": "execute_result"
    }
   ],
   "source": [
    "def count_h5(country):\n",
    "    DATA_DIR = \"data/features/arrays/\"\n",
    "    \"\"\"Count the number of h5 files for a given country.\"\"\"\n",
    "    train = len(list(Path(DATA_DIR).glob(f\"*{country}.h5\")))\n",
    "    test = len(list(Path(DATA_DIR).glob(f\"*{country}-eval.h5\")))\n",
    "    return train, test\n",
    "\n",
    "count_h5('togo')"
   ]
  },
  {
   "cell_type": "code",
   "execution_count": 66,
   "metadata": {},
   "outputs": [
    {
     "name": "stdout",
     "output_type": "stream",
     "text": [
      "[20, 50, 126, 254, 382, 508, 636, 764, 892, 1020, 1148, None]\n",
      "Averaging using sample size\n",
      "[WindowsPath('Results/RF/Togo/Togo_crop_20_0.nc'), WindowsPath('Results/RF/Togo/Togo_crop_20_1.nc'), WindowsPath('Results/RF/Togo/Togo_crop_20_2.nc'), WindowsPath('Results/RF/Togo/Togo_crop_20_3.nc'), WindowsPath('Results/RF/Togo/Togo_crop_20_4.nc'), WindowsPath('Results/RF/Togo/Togo_crop_20_5.nc'), WindowsPath('Results/RF/Togo/Togo_crop_20_6.nc'), WindowsPath('Results/RF/Togo/Togo_crop_20_7.nc'), WindowsPath('Results/RF/Togo/Togo_crop_20_8.nc'), WindowsPath('Results/RF/Togo/Togo_crop_20_9.nc')]\n",
      "[WindowsPath('Results/RF/Togo/Togo_crop_508_0.nc'), WindowsPath('Results/RF/Togo/Togo_crop_508_1.nc'), WindowsPath('Results/RF/Togo/Togo_crop_508_2.nc'), WindowsPath('Results/RF/Togo/Togo_crop_508_3.nc'), WindowsPath('Results/RF/Togo/Togo_crop_508_4.nc'), WindowsPath('Results/RF/Togo/Togo_crop_508_5.nc'), WindowsPath('Results/RF/Togo/Togo_crop_508_6.nc'), WindowsPath('Results/RF/Togo/Togo_crop_508_7.nc'), WindowsPath('Results/RF/Togo/Togo_crop_508_8.nc'), WindowsPath('Results/RF/Togo/Togo_crop_508_9.nc'), WindowsPath('Results/RF/Togo/Togo_crop_50_0.nc'), WindowsPath('Results/RF/Togo/Togo_crop_50_1.nc'), WindowsPath('Results/RF/Togo/Togo_crop_50_2.nc'), WindowsPath('Results/RF/Togo/Togo_crop_50_3.nc'), WindowsPath('Results/RF/Togo/Togo_crop_50_4.nc'), WindowsPath('Results/RF/Togo/Togo_crop_50_5.nc'), WindowsPath('Results/RF/Togo/Togo_crop_50_6.nc'), WindowsPath('Results/RF/Togo/Togo_crop_50_7.nc'), WindowsPath('Results/RF/Togo/Togo_crop_50_8.nc'), WindowsPath('Results/RF/Togo/Togo_crop_50_9.nc')]\n",
      "[WindowsPath('Results/RF/Togo/Togo_crop_126_0.nc'), WindowsPath('Results/RF/Togo/Togo_crop_126_1.nc'), WindowsPath('Results/RF/Togo/Togo_crop_126_2.nc'), WindowsPath('Results/RF/Togo/Togo_crop_126_3.nc'), WindowsPath('Results/RF/Togo/Togo_crop_126_4.nc'), WindowsPath('Results/RF/Togo/Togo_crop_126_5.nc'), WindowsPath('Results/RF/Togo/Togo_crop_126_6.nc'), WindowsPath('Results/RF/Togo/Togo_crop_126_7.nc'), WindowsPath('Results/RF/Togo/Togo_crop_126_8.nc'), WindowsPath('Results/RF/Togo/Togo_crop_126_9.nc')]\n",
      "[WindowsPath('Results/RF/Togo/Togo_crop_254_0.nc'), WindowsPath('Results/RF/Togo/Togo_crop_254_1.nc'), WindowsPath('Results/RF/Togo/Togo_crop_254_2.nc'), WindowsPath('Results/RF/Togo/Togo_crop_254_3.nc'), WindowsPath('Results/RF/Togo/Togo_crop_254_4.nc'), WindowsPath('Results/RF/Togo/Togo_crop_254_5.nc'), WindowsPath('Results/RF/Togo/Togo_crop_254_6.nc'), WindowsPath('Results/RF/Togo/Togo_crop_254_7.nc'), WindowsPath('Results/RF/Togo/Togo_crop_254_8.nc'), WindowsPath('Results/RF/Togo/Togo_crop_254_9.nc')]\n",
      "[WindowsPath('Results/RF/Togo/Togo_crop_382_0.nc'), WindowsPath('Results/RF/Togo/Togo_crop_382_1.nc'), WindowsPath('Results/RF/Togo/Togo_crop_382_2.nc'), WindowsPath('Results/RF/Togo/Togo_crop_382_3.nc'), WindowsPath('Results/RF/Togo/Togo_crop_382_4.nc'), WindowsPath('Results/RF/Togo/Togo_crop_382_5.nc'), WindowsPath('Results/RF/Togo/Togo_crop_382_6.nc'), WindowsPath('Results/RF/Togo/Togo_crop_382_7.nc'), WindowsPath('Results/RF/Togo/Togo_crop_382_8.nc'), WindowsPath('Results/RF/Togo/Togo_crop_382_9.nc')]\n",
      "[WindowsPath('Results/RF/Togo/Togo_crop_508_0.nc'), WindowsPath('Results/RF/Togo/Togo_crop_508_1.nc'), WindowsPath('Results/RF/Togo/Togo_crop_508_2.nc'), WindowsPath('Results/RF/Togo/Togo_crop_508_3.nc'), WindowsPath('Results/RF/Togo/Togo_crop_508_4.nc'), WindowsPath('Results/RF/Togo/Togo_crop_508_5.nc'), WindowsPath('Results/RF/Togo/Togo_crop_508_6.nc'), WindowsPath('Results/RF/Togo/Togo_crop_508_7.nc'), WindowsPath('Results/RF/Togo/Togo_crop_508_8.nc'), WindowsPath('Results/RF/Togo/Togo_crop_508_9.nc')]\n",
      "[WindowsPath('Results/RF/Togo/Togo_crop_636_0.nc'), WindowsPath('Results/RF/Togo/Togo_crop_636_1.nc'), WindowsPath('Results/RF/Togo/Togo_crop_636_2.nc'), WindowsPath('Results/RF/Togo/Togo_crop_636_3.nc'), WindowsPath('Results/RF/Togo/Togo_crop_636_4.nc'), WindowsPath('Results/RF/Togo/Togo_crop_636_5.nc'), WindowsPath('Results/RF/Togo/Togo_crop_636_6.nc'), WindowsPath('Results/RF/Togo/Togo_crop_636_7.nc'), WindowsPath('Results/RF/Togo/Togo_crop_636_8.nc'), WindowsPath('Results/RF/Togo/Togo_crop_636_9.nc')]\n",
      "[WindowsPath('Results/RF/Togo/Togo_crop_764_0.nc'), WindowsPath('Results/RF/Togo/Togo_crop_764_1.nc'), WindowsPath('Results/RF/Togo/Togo_crop_764_2.nc'), WindowsPath('Results/RF/Togo/Togo_crop_764_3.nc'), WindowsPath('Results/RF/Togo/Togo_crop_764_4.nc'), WindowsPath('Results/RF/Togo/Togo_crop_764_5.nc'), WindowsPath('Results/RF/Togo/Togo_crop_764_6.nc'), WindowsPath('Results/RF/Togo/Togo_crop_764_7.nc'), WindowsPath('Results/RF/Togo/Togo_crop_764_8.nc'), WindowsPath('Results/RF/Togo/Togo_crop_764_9.nc')]\n",
      "[WindowsPath('Results/RF/Togo/Togo_crop_892_0.nc'), WindowsPath('Results/RF/Togo/Togo_crop_892_1.nc'), WindowsPath('Results/RF/Togo/Togo_crop_892_2.nc'), WindowsPath('Results/RF/Togo/Togo_crop_892_3.nc'), WindowsPath('Results/RF/Togo/Togo_crop_892_4.nc'), WindowsPath('Results/RF/Togo/Togo_crop_892_5.nc'), WindowsPath('Results/RF/Togo/Togo_crop_892_6.nc'), WindowsPath('Results/RF/Togo/Togo_crop_892_7.nc'), WindowsPath('Results/RF/Togo/Togo_crop_892_8.nc'), WindowsPath('Results/RF/Togo/Togo_crop_892_9.nc')]\n",
      "[WindowsPath('Results/RF/Togo/Togo_crop_1020_0.nc'), WindowsPath('Results/RF/Togo/Togo_crop_1020_1.nc'), WindowsPath('Results/RF/Togo/Togo_crop_1020_2.nc'), WindowsPath('Results/RF/Togo/Togo_crop_1020_3.nc'), WindowsPath('Results/RF/Togo/Togo_crop_1020_4.nc'), WindowsPath('Results/RF/Togo/Togo_crop_1020_5.nc'), WindowsPath('Results/RF/Togo/Togo_crop_1020_6.nc'), WindowsPath('Results/RF/Togo/Togo_crop_1020_7.nc'), WindowsPath('Results/RF/Togo/Togo_crop_1020_8.nc'), WindowsPath('Results/RF/Togo/Togo_crop_1020_9.nc')]\n",
      "[WindowsPath('Results/RF/Togo/Togo_crop_1148_0.nc'), WindowsPath('Results/RF/Togo/Togo_crop_1148_1.nc'), WindowsPath('Results/RF/Togo/Togo_crop_1148_2.nc'), WindowsPath('Results/RF/Togo/Togo_crop_1148_3.nc'), WindowsPath('Results/RF/Togo/Togo_crop_1148_4.nc'), WindowsPath('Results/RF/Togo/Togo_crop_1148_5.nc'), WindowsPath('Results/RF/Togo/Togo_crop_1148_6.nc'), WindowsPath('Results/RF/Togo/Togo_crop_1148_7.nc'), WindowsPath('Results/RF/Togo/Togo_crop_1148_8.nc'), WindowsPath('Results/RF/Togo/Togo_crop_1148_9.nc')]\n",
      "[WindowsPath('Results/RF/Togo/Togo_crop_None_0.nc'), WindowsPath('Results/RF/Togo/Togo_crop_None_1.nc'), WindowsPath('Results/RF/Togo/Togo_crop_None_2.nc'), WindowsPath('Results/RF/Togo/Togo_crop_None_3.nc'), WindowsPath('Results/RF/Togo/Togo_crop_None_4.nc'), WindowsPath('Results/RF/Togo/Togo_crop_None_5.nc'), WindowsPath('Results/RF/Togo/Togo_crop_None_6.nc'), WindowsPath('Results/RF/Togo/Togo_crop_None_7.nc'), WindowsPath('Results/RF/Togo/Togo_crop_None_8.nc'), WindowsPath('Results/RF/Togo/Togo_crop_None_9.nc')]\n"
     ]
    }
   ],
   "source": [
    "import config\n",
    "import json\n",
    "from cropharvest.engineer import TestInstance\n",
    "\n",
    "sample_sizes = config.DATASET_TO_SIZES['Togo']\n",
    "# sample_sizes = [20]\n",
    "seed_average = False\n",
    "\n",
    "\n",
    "print(sample_sizes)\n",
    "# seed = 0\n",
    "# togo_dataset.shuffle(seed=seed)\n",
    "\n",
    "Skip_Existing_Results = True\n",
    "   \n",
    "for seed in config.SHUFFLE_SEEDS:\n",
    "    togo_dataset.shuffle(seed=seed)\n",
    "    for sample in sample_sizes:\n",
    "        print(\"Running sample size: \", sample)\n",
    "        json_suffix = f\"{togo_dataset.id}_{sample}_{seed}.json\"\n",
    "        nc_suffix  = f\"{togo_dataset.id}_{sample}_{seed}.nc\"\n",
    "        average_suffix = f\"{togo_dataset.id}_{sample}*.nc\"\n",
    "\n",
    "        train_x, train_y = togo_dataset.as_array(flatten_x=True, num_samples=sample)\n",
    "        print(train_x.shape, train_y.shape)\n",
    "        model = RandomForestClassifier(random_state=42)\n",
    "        model.fit(train_x, train_y)\n",
    "\n",
    "        for test_id, test_instance in togo_dataset.test_data(flatten_x=True):\n",
    "            results_json =  \"Results/RF/Togo/\" + json_suffix\n",
    "            results_nc =  \"Results/RF/Togo/\" + nc_suffix\n",
    "\n",
    "            if Path(results_json).exists() and Skip_Existing_Results:\n",
    "                print(f\"Results already saved for {results_json} - skipping\")\n",
    "\n",
    "            else:\n",
    "                preds = model.predict_proba(test_instance.x)\n",
    "                print(preds[0:10], preds.shape)\n",
    "                preds = preds[:, 1]\n",
    "                print(preds[0:10], preds.shape)\n",
    "                results = test_instance.evaluate_predictions(preds)\n",
    "                print(results)\n",
    "\n",
    "                with Path(results_json).open(\"w\") as f:\n",
    "                    json.dump(results, f)\n",
    "\n",
    "                ds = test_instance.to_xarray(preds)\n",
    "                ds.to_netcdf(results_nc)\n",
    "\n",
    "        # finally, we want to get results when all the test instances are considered\n",
    "                    # together\n",
    "    if seed_average:\n",
    "        print(\"Running seed average\")\n",
    "        all_nc_files = list(Path('Results/RF/Togo/').glob(f\"*{seed}.nc\"))\n",
    "        print(all_nc_files)\n",
    "        combined_instance, combined_preds = TestInstance.load_from_nc(all_nc_files)\n",
    "\n",
    "        combined_results = combined_instance.evaluate_predictions(combined_preds)\n",
    "\n",
    "        with (Path('Results/RF/Togo_Combined/') / f\"Seed_combined_{json_suffix}\").open(\"w\") as f:\n",
    "            json.dump(combined_results, f)\n",
    "if not seed_average:\n",
    "    print(\"Averaging using sample size\")\n",
    "    for sample in sample_sizes:\n",
    "        average_suffix = f\"{togo_dataset.id}_{sample}\"\n",
    "        all_nc_files = list(Path('Results/RF/Togo/').glob(f\"{average_suffix}*.nc\"))\n",
    "        print(all_nc_files)\n",
    "        combined_instance, combined_preds = TestInstance.load_from_nc(all_nc_files)\n",
    "\n",
    "        combined_results = combined_instance.evaluate_predictions(combined_preds)\n",
    "\n",
    "        with (Path('Results/RF/Togo_Combined/') / f\"Sample_combined_{average_suffix}.json\").open(\"w\") as f:\n",
    "            json.dump(combined_results, f)\n",
    "\n",
    "\n",
    "\n",
    "\n",
    "\n"
   ]
  },
  {
   "cell_type": "code",
   "execution_count": null,
   "metadata": {},
   "outputs": [],
   "source": []
  }
 ],
 "metadata": {
  "kernelspec": {
   "display_name": "Python 3",
   "language": "python",
   "name": "python3"
  },
  "language_info": {
   "codemirror_mode": {
    "name": "ipython",
    "version": 3
   },
   "file_extension": ".py",
   "mimetype": "text/x-python",
   "name": "python",
   "nbconvert_exporter": "python",
   "pygments_lexer": "ipython3",
   "version": "3.9.16"
  },
  "orig_nbformat": 4
 },
 "nbformat": 4,
 "nbformat_minor": 2
}
